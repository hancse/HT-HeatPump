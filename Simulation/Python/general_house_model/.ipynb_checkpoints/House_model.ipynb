{
 "cells": [
  {
   "cell_type": "code",
   "execution_count": 2,
   "metadata": {
    "_cell_guid": "b1076dfc-b9ad-4769-8c92-a6c4dae69d19",
    "_uuid": "8f2839f25d086af736a60e9eeb907d3b93b6e0e5"
   },
   "outputs": [],
   "source": [
    "# This Python 3 environment comes with many helpful analytics libraries installed\n",
    "# It is defined by the kaggle/python Docker image: https://github.com/kaggle/docker-python\n",
    "# For example, here's several helpful packages to load\n",
    "\n",
    "import numpy as np # linear algebra\n",
    "import pandas as pd # data processing, CSV file I/O (e.g. pd.read_csv)\n",
    "\n",
    "# Input data files are available in the read-only \"../input/\" directory\n",
    "# For example, running this (by clicking run or pressing Shift+Enter) will list all files under the input directory\n",
    "\n",
    "import os\n",
    "for dirname, _, filenames in os.walk('/kaggle/input'):\n",
    "    for filename in filenames:\n",
    "        print(os.path.join(dirname, filename))\n",
    "\n",
    "# You can write up to 5GB to the current directory (/kaggle/working/) that gets preserved as output when you create a version using \"Save & Run All\" \n",
    "# You can also write temporary files to /kaggle/temp/, but they won't be saved outside of the current session"
   ]
  },
  {
   "cell_type": "code",
   "execution_count": 3,
   "metadata": {},
   "outputs": [],
   "source": [
    "#!pip install gekko"
   ]
  },
  {
   "cell_type": "code",
   "execution_count": 4,
   "metadata": {},
   "outputs": [],
   "source": [
    "import matplotlib.pyplot as plt\n",
    "from gekko import GEKKO\n",
    "import pandas as pd\n",
    "import math\n",
    "from pathlib import Path"
   ]
  },
  {
   "cell_type": "code",
   "execution_count": 5,
   "metadata": {},
   "outputs": [],
   "source": [
    "def qsun(tclim,\n",
    "        Dh,\n",
    "        En,\n",
    "        gamma,\n",
    "        beta,\n",
    "        rground):\n",
    "        \"\"\"\n",
    "        Calculates the solar irradiation on a outer surface.\n",
    "\n",
    "        Parameters:\n",
    "            tclim  (scalar):  time column vectors (sec) with one hour step size.\n",
    "            Dh     (scalar):  diffuse horizontal irradiation[W/m2].\n",
    "            En     (scalar):  direct normal irradiation [W/m2].\n",
    "            gamma  (scalar):  the azimuth angle of the surface, east:gamma = -90, west:gamma = 90, south:gamma = 0, north:gamma = 180.\n",
    "            beta   (scalar):  the inclination angle of the surface,horizontal: beta=0, vertical: beta=90\n",
    "            rground:          ground reflection, \n",
    "\n",
    "            default geographical position: De Bilt default ground reflectivity (albedo): 0.2\n",
    "\n",
    "            EXAMPLE: E=irrad(800,200,201,12,0,45) ANSWER: E=1.0e+003 * 0.8569 0.1907 1.0759 0.9684\n",
    "\n",
    "        Return:  \n",
    "            E : total irradiation on an inclined surface [w/m2]\n",
    "\n",
    "        References: \n",
    "            - REF: Perez (zie Solar Energy volume 39 no. 3)\n",
    "            - Adapted version from Eindhoven University of Technology: JvS feb 2002\n",
    "\n",
    "        \"\"\"\n",
    "        iday = 1+math.floor(tclim/(24*3600)); \"\"\" iday (scalar):  day of the year (1-365)\"\"\"\n",
    "        LST  = math.floor((tclim/3600) % 24); \"\"\" LST  (scalar):  Local Standard time (0 - 24) [hour]\"\"\"\n",
    "        L    = 52.1;                          \"\"\" L:              Latitude [graden]\"\"\"\n",
    "        LON  = 5.1;                           \"\"\" LON:            Local Longitude [graden] oost is positief\"\"\"\n",
    "        LSM  = 15;                            \"\"\" LSM:            Local Standard time Meridian [graden] oost is positief\"\"\"\n",
    "        \"\"\"\n",
    "            rground = albedo\n",
    "            rground=0.2;\n",
    "        \"\"\" \n",
    "        r    = math.pi/180;\n",
    "        L    = L*r\n",
    "        beta = beta*r\n",
    "        theta= 2*math.pi*(iday-1)/365.25\n",
    "        el   = 4.901+0.033*math.sin(-0.031+theta)+theta\n",
    "        \n",
    "        \"\"\"declination\"\"\"\n",
    "\n",
    "        delta= math.asin(math.sin(23.442*r)*math.sin(el))\n",
    "        q1   = math.tan(4.901+theta)\n",
    "        q2   = math.cos(23.442*r)*math.tan(el)\n",
    "        \n",
    "        \"\"\"equation of time\"\"\"\n",
    "\n",
    "        ET   = (math.atan((q1-q2)/(q1*q2+1)))*4/r\n",
    "        AST  = LST+ET/60-(4/60)*(LSM-LON)\n",
    "        h    = (AST-12)*15*r\n",
    "        \n",
    "        \"\"\"hai: sin(solar altitude)\"\"\" \n",
    "        \n",
    "        hai  = math.cos(L)*math.cos(delta)*math.cos(h)+math.sin(L)*math.sin(delta)\n",
    "               \n",
    "        E    = np.zeros((1,4))\n",
    "        \n",
    "        if hai>0:\n",
    "            \"\"\"salt: solar altitude\"\"\"\n",
    "            salt= math.asin(hai) \n",
    "            phi = math.acos((hai*math.sin(L)-math.sin(delta))/(math.cos(salt)*math.cos(L)))*np.sign(h)\n",
    "            gam = phi-gamma*r;\n",
    "            \n",
    "            \"\"\"cai: cos(teta)\"\"\"\n",
    "            \n",
    "            cai = math.cos(salt)*math.cos(abs(gam))*math.sin(beta)+hai*math.cos(beta)\n",
    "            \"\"\"teta: incident angle on the tilted surface\"\"\"\n",
    "            teta= math.acos(cai)\n",
    "            \n",
    "            \"\"\"salts: solar altitude for an inclined surface\"\"\"\n",
    "\n",
    "            salts=math.pi/2-teta\n",
    "            \n",
    "            \"\"\"Perez (zie Solar Energy volume 39 no. 3),\n",
    "            Calculation of the diffuse radiation on an oblique plane\n",
    "            Approximatin of A and C, the solid angles occupied by the circumsolar region,\n",
    "            weighed by its average incidence on the slope and horizontal respectively.\n",
    "            In the expression of diffuse on inclined surface the quotient of A/C is\n",
    "            reduced to XIC/XIH. A=2*(1-cos(beta))*xic, C=2*(1-cos(beta))*xih\n",
    "            gecontroleerd okt 1996 martin de wit\n",
    "            \"\"\"\n",
    "            \n",
    "            # alpha= the half-angle circumsolar region\n",
    "            alpha=25*r\n",
    "\n",
    "            if salts<-alpha:\n",
    "\n",
    "                xic=0\n",
    "\n",
    "            elif salts>alpha:\n",
    "\n",
    "                xic=cai\n",
    "\n",
    "\n",
    "            else:\n",
    "                xic=0.5*(1+salts/alpha)*math.sin((salts+alpha)/2)\n",
    "\n",
    "            if salt>alpha:\n",
    "\n",
    "                xih=hai\n",
    "\n",
    "            else:\n",
    "                xih=math.sin((alpha+salt)/2)\n",
    "\n",
    "            \"\"\"\n",
    "            \n",
    "            - (f1acc): circumsolar brightness coefficient\n",
    "              \n",
    "            - (f2acc): horizon brightness coefficient \n",
    "            \n",
    "            \"\"\"\n",
    "            epsint=[1.056 ,1.253 ,1.586, 2.134, 3.23 ,5.98, 10.08 ,999999]\n",
    "            f11acc=[-0.011 ,-0.038 ,0.166 ,0.419 ,0.710 ,0.857 ,0.734 ,0.421]\n",
    "            f12acc=[0.748 ,1.115 ,0.909 ,0.646 ,0.025 ,-0.370 ,-0.073 ,-0.661]\n",
    "            f13acc=[-0.080 ,-0.109 ,-0.179 ,-0.262 ,-0.290 ,-0.279 ,-0.228 ,0.097]\n",
    "            f21acc=[-0.048 ,-0.023 ,0.062 ,0.140 ,0.243 ,0.267 ,0.231 ,0.119]\n",
    "            f22acc=[0.073 ,0.106 ,-0.021 ,-0.167 ,-0.511 ,-0.792 ,-1.180 ,-2.125]\n",
    "            f23acc=[-0.024 ,-0.037 ,-0.050 ,-0.042 ,-0.004 ,0.076 ,0.199 ,0.446]\n",
    "            \n",
    "            \"\"\"Determination of zet = solar zenith angle (pi/2 - solar altitude)\"\"\"\n",
    "            \n",
    "            zet=math.pi/2-salt\n",
    "            \n",
    "            \"\"\"Determination of inteps with eps\"\"\"\n",
    "\n",
    "            inteps=0\n",
    "\n",
    "            if Dh>0:\n",
    "\n",
    "                eps=1+En/Dh\n",
    "                inteps=7;                         \"\"\" give big random number for starting point\"\"\"\n",
    "                for i in range(len(epsint)):\n",
    "                    if epsint[i]>=eps:\n",
    "                        temp_i =i        \n",
    "                        inteps=min(temp_i,inteps)\n",
    "                #print(inteps)                \n",
    "                #inteps=min(i)\n",
    "\n",
    "            \"\"\"calculation of inverse relative air mass\"\"\"\n",
    "\n",
    "            airmiv=hai\n",
    "\n",
    "            if salt<10*r:\n",
    "                airmiv=hai+0.15*(salt/r+3.885)**(-1.253)   # change ^ to **\n",
    "            \n",
    "            \"\"\"calculation of extraterrestrial radiation\"\"\" \n",
    "\n",
    "            Eon=1370*(1+0.033*math.cos(2*math.pi*(iday-3)/365))\n",
    "            \n",
    "            \"\"\"Delta is the new sky brightness parameter\"\"\"\n",
    "\n",
    "            delta=Dh/(airmiv*Eon)\n",
    "\n",
    "            \"\"\"\n",
    "            Determination of the new circumsolar brightness coefficient\n",
    "              \n",
    "            (f1acc) and horizon brightness coefficient (f2acc)\n",
    "            \n",
    "            \"\"\" \n",
    "            \n",
    "            f1acc=f11acc[inteps]+f12acc[inteps]*delta+f13acc[inteps]*zet\n",
    "            f2acc=f21acc[inteps]+f22acc[inteps]*delta+f23acc[inteps]*zet\n",
    "            \n",
    "            \"\"\"Determination of the diffuse radiation on an inclined surface\"\"\"\n",
    "\n",
    "            E[0,0]=Dh*(0.5*(1+math.cos(beta))*(1-f1acc)+f1acc*xic/xih+f2acc*math.sin(beta))\n",
    "\n",
    "            if E[0,0]<0:\n",
    "\n",
    "                E[0,0]=0\n",
    "\n",
    "            \"\"\"\n",
    "                horizontal surfaces treated separately \n",
    "                beta=0 :       surface facing up, \n",
    "                beta=180(pi) : surface facing down\n",
    "                \n",
    "            \"\"\" \n",
    "            \n",
    "            if beta>-0.0001 and beta<0.0001:\n",
    "\n",
    "                E[0,0]=Dh\n",
    "\n",
    "            if beta>(math.pi-0.0001) and beta<(math.pi+0.0001):\n",
    "\n",
    "                E[0,0]=0\n",
    "                \n",
    "             # Isotropic sky\n",
    "             # E(1)=0.5*(1+cos(beta))*Dh;\n",
    "\n",
    "            \"\"\"Direct solar radiation on a surface\"\"\" \n",
    "\n",
    "            E[0,1]=En*cai\n",
    "\n",
    "            if E[0,1]<0.0:\n",
    "\n",
    "                E[0,1]=0\n",
    "\n",
    "            \"\"\"The ground reflected component: assume isotropic ground conditions.\"\"\"\n",
    "\n",
    "            Eg=0.5*rground*(1-math.cos(beta))*(Dh+En*hai)\n",
    "            \n",
    "            \"\"\"Global irradiation\"\"\"\n",
    "\n",
    "            E[0,3]=Dh+En*hai\n",
    "\n",
    "            \"\"\"Total irradiation on an inclined surface\"\"\"\n",
    "                \n",
    "            E[0,2]=E[0,0] + E[0,1] + Eg\n",
    "            \n",
    "        return E[0,2]\n",
    "        "
   ]
  },
  {
   "cell_type": "markdown",
   "metadata": {},
   "source": [
    "> ### Change working directory to input data file"
   ]
  },
  {
   "cell_type": "code",
   "execution_count": 8,
   "metadata": {},
   "outputs": [
    {
     "name": "stdout",
     "output_type": "stream",
     "text": [
      "C:\\Users\\TrungNguyen\\Documents\\HT-HeatPump\\Simulation\\Python\\house_model\n"
     ]
    }
   ],
   "source": [
    "print(Path.cwd())\n",
    "data_dir = Path.cwd() /'../input_data'\n",
    "output_dir = Path.cwd()/'output'\n",
    "NENdata_path = data_dir/'NEN5060-2018.xlsx'\n",
    "xls = pd.ExcelFile(NENdata_path)  "
   ]
  },
  {
   "cell_type": "code",
   "execution_count": 9,
   "metadata": {},
   "outputs": [
    {
     "data": {
      "text/plain": [
       "['nen5060 - energie', 'ontwerp 1%', 'ontwerp 5%']"
      ]
     },
     "execution_count": 9,
     "metadata": {},
     "output_type": "execute_result"
    }
   ],
   "source": [
    "xls.sheet_names  # Check sheet names"
   ]
  },
  {
   "cell_type": "code",
   "execution_count": 10,
   "metadata": {},
   "outputs": [],
   "source": [
    "\"\"\"Select sheet in NEN data files.\n",
    "\n",
    "     - k=1 by NEN default by default\n",
    "     - k=2,3 for building construction purposes read NEN docs for more info.\n",
    "\n",
    "\"\"\"\n",
    "k=1"
   ]
  },
  {
   "cell_type": "code",
   "execution_count": 11,
   "metadata": {},
   "outputs": [],
   "source": [
    "\"\"\" Exchange of NEN5060 data in climate files for Python\n",
    "\n",
    "    Exchange of NEN5060_2018 data in Excel\n",
    "    For irradiation on S, SW, W, NW, N, NE, E, SE and horizontal and Toutdoor\n",
    "    Irradiation can be used for solar irradiation on windows\n",
    "    Matlab version September 17th 2018 by Arie Taal THUAS (The Hague University of Applied Sciences)\n",
    "    Python version 28/05/2020 by Trung Nguyen HAN University of Applied Sciences\n",
    "\n",
    "\"\"\"\n",
    "\n",
    "\n",
    "rground=0  #ground reflection is ignored\n",
    "\n",
    "if k==1:\n",
    "    NUM = pd.read_excel(xls,'nen5060 - energie');  \"\"\"this file is part of NEN 5060 20018\"\"\"\n",
    "elif k==2:\n",
    "    NUM = pd.read_excel(xls,'ontwerp 1%')\n",
    "elif k==3:\n",
    "    NUM = pd.read_excel(xls,'ontwerp 5%')\n",
    "#Convert data frame to array\n",
    "to_array=NUM.to_numpy()\n",
    "to_array=np.delete(to_array, 0, 0)\n",
    "    \n",
    "t=(np.array(list(range(1,8761)))-1)*3600\n",
    "\"\"\"Day of month \"\"\"\n",
    "dom=to_array[:,2]\n",
    "\"\"\"Hour of day\"\"\"\n",
    "hod=to_array[:,3]                               \n",
    "qglob_hor=to_array[:,4]\n",
    "qdiff_hor=to_array[:,5]\n",
    "qdir_hor=to_array[:,6]\n",
    "qdir_nor=to_array[:,7]\n",
    "Toutdoor=to_array[:,8]/10\n",
    "phioutdoor=to_array[:,9]\n",
    "xoutdoor=to_array[:,10]/10\n",
    "\"\"\"% at 10 m height \"\"\"  \n",
    "pdamp=to_array[:,11]\n",
    "vwind=to_array[:,12]/10                          \n",
    "dirwind=to_array[:,13]\n",
    "cloud=to_array[:,14]/10\n",
    "rain=to_array[:,15]/10\n",
    "    \n",
    "#w, h = 9, 8760;\n",
    "#E=[[0 for x in range(w)] for y in range(h)]\n",
    "E= np.zeros((8760,9))\n",
    "for j in range(9):\n",
    "    if j<9:\n",
    "        gamma=45*(j-1)\n",
    "        beta=90\n",
    "    else:\n",
    "            \n",
    "        gamma=90\n",
    "        beta=0\n",
    "        \n",
    "    for i in range(8759):\n",
    "            \n",
    "        #E[i][j]=qsun(t[i],qdiff_hor[i],qdir_nor[i],gamma,beta,rground)\n",
    "        E[i,j]=qsun(t[i],qdiff_hor[i],qdir_nor[i],gamma,beta,rground)\n",
    "myarray = np.asarray(E)       \n",
    "#myarray = np.delete(myarray,8759, 0)        \n",
    "qsunS=np.vstack((t,myarray[:,0]))\n",
    "qsunSW=np.vstack((t,myarray[:,1]))\n",
    "qsunW=np.vstack((t,myarray[:,2]))\n",
    "qsunNW=np.vstack((t,myarray[:,3]))\n",
    "qsunN=np.vstack((t,myarray[:,4]))\n",
    "qsunNE=np.vstack((t,myarray[:,5]))\n",
    "qsunE=np.vstack((t,myarray[:,6]))\n",
    "qsunSE=np.vstack((t,myarray[:,7]))\n",
    "qsunhor=np.vstack((t,myarray[:,8]))\n",
    "Tout=np.vstack((t,Toutdoor))\n",
    "phiout=np.vstack((t,phioutdoor))\n",
    "xout=np.vstack((t,xoutdoor))\n",
    "pout=np.vstack((t,pdamp))\n",
    "vout=np.vstack((t,vwind))\n",
    "dirvout=np.vstack((t,dirwind))\n",
    "cloudout=np.vstack((t,cloud))\n",
    "rainout=np.vstack((t,rain))    \n",
    "            "
   ]
  },
  {
   "cell_type": "code",
   "execution_count": 12,
   "metadata": {},
   "outputs": [],
   "source": [
    "#Np.newaxis convert an 1D array to either a row vector or a column vector.\n",
    "\"\"\"Create 2D array from 1D array with 2 elements\"\"\"\n",
    "qsunS=qsunS[np.newaxis]     \n",
    "qsunSW=qsunSW[np.newaxis]     \n",
    "qsunW=qsunW[np.newaxis]     \n",
    "qsunNW=qsunNW[np.newaxis]     \n",
    "qsunN=qsunN[np.newaxis]     \n",
    "qsunNE=qsunNE[np.newaxis]     \n",
    "qsunE=qsunE[np.newaxis]     \n",
    "qsunSE=qsunSE[np.newaxis]     \n",
    "qsunhor=qsunhor[np.newaxis]     \n",
    "Tout=Tout[np.newaxis]     \n",
    "phiout=phiout[np.newaxis]     \n",
    "xout=xout[np.newaxis]     \n",
    "pout=pout[np.newaxis]     \n",
    "vout=vout[np.newaxis]     \n",
    "dirvout=dirvout[np.newaxis]     \n",
    "cloudout=cloudout[np.newaxis]     \n",
    "rainout=rainout[np.newaxis]        "
   ]
  },
  {
   "cell_type": "code",
   "execution_count": 13,
   "metadata": {},
   "outputs": [],
   "source": [
    "\"\"\"Transpose array\"\"\"\n",
    "qsunS=qsunS.T\n",
    "qsunSW=qsunSW.T\n",
    "qsunW=qsunW.T\n",
    "qsunNW=qsunNW.T\n",
    "qsunN=qsunN.T\n",
    "qsunNE=qsunNE.T\n",
    "qsunE=qsunE.T\n",
    "qsunSE=qsunSE.T\n",
    "qsunhor=qsunhor.T\n",
    "Tout=Tout.T\n",
    "phiout=phiout.T\n",
    "xout=xout.T\n",
    "pout=pout.T\n",
    "vout=vout.T\n",
    "dirvout=dirvout.T\n",
    "cloudout=cloudout.T\n",
    "rainout=rainout.T   "
   ]
  },
  {
   "cell_type": "code",
   "execution_count": 14,
   "metadata": {},
   "outputs": [],
   "source": [
    "T_outdoor=Tout[:,1]"
   ]
  },
  {
   "cell_type": "code",
   "execution_count": 15,
   "metadata": {},
   "outputs": [
    {
     "data": {
      "text/plain": [
       "<matplotlib.legend.Legend at 0x230da3ad470>"
      ]
     },
     "execution_count": 15,
     "metadata": {},
     "output_type": "execute_result"
    },
    {
     "data": {
      "image/png": "[encoded data removed]",
      "text/plain": [
       "<Figure size 432x288 with 1 Axes>"
      ]
     },
     "metadata": {
      "needs_background": "light"
     },
     "output_type": "display_data"
    }
   ],
   "source": [
    "#numrows = len(input)    # 3 rows in your example\n",
    "#numcols = len(input[0]) # 2 columns in your example\n",
    "\n",
    "plt.plot(Tout[:,0],Toutdoor,label=r'$T_1$ Toutdoor')\n",
    "plt.ylabel('Temperature (degC)')\n",
    "plt.xlabel('time (sec)')\n",
    "plt.legend(loc=2)"
   ]
  },
  {
   "cell_type": "code",
   "execution_count": 16,
   "metadata": {},
   "outputs": [
    {
     "data": {
      "text/plain": [
       "45"
      ]
     },
     "execution_count": 16,
     "metadata": {},
     "output_type": "execute_result"
    }
   ],
   "source": [
    "import gc\n",
    "gc.collect() # collect garbages"
   ]
  },
  {
   "cell_type": "markdown",
   "metadata": {},
   "source": [
    "### Define input parameters"
   ]
  },
  {
   "cell_type": "code",
   "execution_count": 17,
   "metadata": {},
   "outputs": [],
   "source": [
    "\"\"\"window surface in m2: [S SW W NW N NE E SE]\"\"\"\n",
    "glass=[9.5,9.5,0,0,0,0,0,0]\n",
    "\"\"\"Window solar transmitance, g-value\"\"\"\n",
    "g_value =0.7\n",
    "\"\"\"Time base on 1 hour sampling from NEN\"\"\"\n",
    "time=qsunS[:,0]"
   ]
  },
  {
   "cell_type": "code",
   "execution_count": 18,
   "metadata": {},
   "outputs": [
    {
     "name": "stdout",
     "output_type": "stream",
     "text": [
      "8760\n"
     ]
    }
   ],
   "source": [
    "print(len(time))"
   ]
  },
  {
   "cell_type": "code",
   "execution_count": 19,
   "metadata": {},
   "outputs": [
    {
     "name": "stdout",
     "output_type": "stream",
     "text": [
      "1\n",
      "8760\n"
     ]
    },
    {
     "data": {
      "text/plain": [
       "[<matplotlib.lines.Line2D at 0x230d9744b70>]"
      ]
     },
     "execution_count": 19,
     "metadata": {},
     "output_type": "execute_result"
    },
    {
     "data": {
      "image/png": "[encoded data removed]",
      "text/plain": [
       "<Figure size 432x288 with 1 Axes>"
      ]
     },
     "metadata": {
      "needs_background": "light"
     },
     "output_type": "display_data"
    }
   ],
   "source": [
    "Qsolar = (qsunS[:,1]*glass[0] + qsunSW[:,1]*glass[1] + \n",
    "                      qsunW[:,1]*glass[2] + qsunNW[:,1]*glass[3] + \n",
    "                      qsunN[:,1]*glass[4] + qsunNE[:,1]*glass[5] + \n",
    "                      qsunE[:,1]*glass[6] + qsunSE[:,1]*glass[7]) * g_value\n",
    "print(len(Qsolar[0]))\n",
    "print(len(Qsolar))\n",
    "plt.plot(time,Qsolar)"
   ]
  },
  {
   "cell_type": "markdown",
   "metadata": {},
   "source": [
    "### Internal heat gain "
   ]
  },
  {
   "cell_type": "code",
   "execution_count": 20,
   "metadata": {},
   "outputs": [
    {
     "name": "stderr",
     "output_type": "stream",
     "text": [
      "No handles with labels found to put in legend.\n"
     ]
    },
    {
     "data": {
      "image/png": "[encoded data removed]",
      "text/plain": [
       "<Figure size 432x288 with 1 Axes>"
      ]
     },
     "metadata": {
      "needs_background": "light"
     },
     "output_type": "display_data"
    }
   ],
   "source": [
    "from scipy import signal\n",
    "\n",
    "DeltaQ     = 150                     #Internal heat gain difference between day and night\n",
    "#day_DeltaQ = DeltaQ                 #Day Delta Q internal [W]\n",
    "Qday       = 400                     #Day internal heat gain W\n",
    "nightQ     = Qday - DeltaQ           #Night internal heat gain\n",
    "\n",
    "t1= 8                                #Presence from [hour]\n",
    "t2= 23                               #Presence until [hour]\n",
    "\n",
    "days_hours   = 24                    #number_of_hour_in_oneday + start hour at 0\n",
    "days         = 365                   #number of simulation days\n",
    "periods      = 24*3600*days          #in seconds (day_periods*365 = years)\n",
    "pulse_width  = (t2-t1)/24            # % of the periods\n",
    "phase_delay  = t1                    #in seconds\n",
    "\n",
    "\n",
    "#t = np.linspace(0, 24*3600, 24)\n",
    "t= np.linspace(0,1,(days_hours*days)+1,endpoint=False)          #+1 start from 0\n",
    "pulseday = signal.square(2 * np.pi* days * t,duty=pulse_width)\n",
    "pulseday = np.clip(pulseday, 0, 1)\n",
    "# add delay to array\n",
    "pulseday=np.roll(pulseday,phase_delay)\n",
    "\n",
    "#______pulse week generator______________\n",
    "\n",
    "week = days/7\n",
    "pulse_w  = 0.99\n",
    "\n",
    "#t = np.linspace(0, 24*3600, 24)\n",
    "pulse_week = signal.square(2*np.pi*week*t,duty=pulse_w)\n",
    "pulse_week = np.clip(pulse_week, 0, 1)\n",
    "\n",
    "#pulse_week=np.roll(pulse_week,phase_delay)\n",
    "\n",
    "#create simulation time\n",
    "time_t = np.linspace(0,periods,(days_hours*days)+1)\n",
    "\n",
    "#Internal heat gain\n",
    "\n",
    "Qinternal = nightQ + pulseday*DeltaQ*pulse_week\n",
    "Qinternal=Qinternal[np.newaxis]\n",
    "Qinternal=Qinternal.T\n",
    "\n",
    "#Plot 48 hours\n",
    "\n",
    "plt.plot(time_t[0:48], Qinternal[0:48])\n",
    "plt.ylabel('Internal heat gain (W)')\n",
    "plt.xlabel('time (sec)')\n",
    "plt.legend(loc=2)\n",
    "#print(Qinternal)\n",
    "Qinternal=np.delete(Qinternal, -1, 0)"
   ]
  },
  {
   "cell_type": "code",
   "execution_count": 21,
   "metadata": {},
   "outputs": [],
   "source": [
    "\"\"\" Initialization Dwelling\n",
    "      \n",
    "        - Arie Taal, Baldiri Salcedo HHS 10 July 2018\n",
    "        - The incident solar heat is divided between Cwall and Cair by the convection factor (CF=0.8)\n",
    "        - Qinst :  isntant  by heating or cooling needed at this moments\n",
    "        \n",
    "        Last modify by Trung Nguyen\n",
    "\"\"\"\n",
    "\n",
    "\"\"\"Envelope surface (facade + roof + ground) [m2]\"\"\"\n",
    "A_facade = 160.2\n",
    "\"\"\"Envelope thermal resitance, R-value [m2/KW]\"\"\"\n",
    "Rc_facade =1.3\n",
    "\n",
    "\"\"\"\n",
    "- Windows surface [N,S,E,W,SE,SW,NE,NW] [m2]\n",
    "- glass =[0,0,9.5,9.5,0,0,0,0]\n",
    "- Window thermal transmittance, U-value [W/m2K]\n",
    "\"\"\"\n",
    "\n",
    "Uglass = 2.9\n",
    "\"\"\"Window solar transmitance, g-value\"\"\"\n",
    "g_value =0.7\n",
    "CF=0.8\n",
    "\"\"\"Ventilation, air changes per hour [#/h]\"\"\"\n",
    "n=0.55\n",
    "\"\"\"Internal volume [m3]\"\"\"\n",
    "V_dwelling = 275.6\n",
    "\"\"\"Facade construction\n",
    "\n",
    "    - Middle_weight =2 Light_weight =1 / Heavy_weight\n",
    "\"\"\"\n",
    "N_facade  = 2\n",
    "\"\"\"Floor and internal walls surface [m2]\"\"\"\n",
    "A_internal_mass = 300\n",
    "\"\"\"Floor and internal walls construction\n",
    "\n",
    "    - Middle_weight =2 / Light_weight=1 / Heavy_weight\n",
    "\n",
    "\"\"\"\n",
    "N_internal_mass = 2             \n"
   ]
  },
  {
   "cell_type": "markdown",
   "metadata": {},
   "source": [
    "# House model Initial Parameters"
   ]
  },
  {
   "cell_type": "code",
   "execution_count": 23,
   "metadata": {},
   "outputs": [
    {
     "data": {
      "text/plain": [
       "'1: Light weight construction / 2: Middle weight construction / 3: Heavy weight construction'"
      ]
     },
     "execution_count": 23,
     "metadata": {},
     "output_type": "execute_result"
    }
   ],
   "source": [
    "N_internal_mass = 2;   \"\"\"1: Light weight construction / 2: Middle weight construction / 3: Heavy weight construction\"\"\" \n",
    "N_facade = 2;          \"\"\"1: Light weight construction / 2: Middle weight construction / 3: Heavy weight construction\"\"\""
   ]
  },
  {
   "cell_type": "code",
   "execution_count": 24,
   "metadata": {},
   "outputs": [
    {
     "data": {
      "text/plain": [
       "'Capacity walls '"
      ]
     },
     "execution_count": 24,
     "metadata": {},
     "output_type": "execute_result"
    }
   ],
   "source": [
    "\"\"\"Initial parameters file for House model\"\"\"\n",
    "\n",
    "##Predefined variables \n",
    " \n",
    "rho_air = 1.20;              \"\"\"Density air in [kg/m3] \"\"\"\n",
    "c_air  = 1005;               \"\"\"Specific heat capacity air [J/kgK] \"\"\" \n",
    "alpha_i_facade = 8;\n",
    "alpha_e_facade = 23;\n",
    "alpha_internal_mass = 8;\n",
    "\n",
    "\"\"\" \n",
    "Variables from Simulink model, dwelling mask\n",
    "Floor and internal walls construction.\n",
    "It is possible to choose between light, middle or heavy weight construction\n",
    "\n",
    "\"\"\"\n",
    "\n",
    "#Light weight construction  \n",
    "if N_internal_mass==1:          \n",
    "    \n",
    "    c_internal_mass=840;         \"\"\"Specific heat capacity construction [J/kgK] \"\"\"\n",
    "    th_internal_mass=0.1;        \"\"\"Construction thickness [m] \"\"\"\n",
    "    rho_internal_mass=500;       \"\"\"Density construction in [kg/m3] \"\"\"\n",
    "    \n",
    "#Middle weight construction      \n",
    "elif N_internal_mass==2:        \n",
    "    \n",
    "    c_internal_mass=840;        \"\"\"Specific heat capacity construction [J/kgK] \"\"\"\n",
    "    th_internal_mass=0.1;       \"\"\"Construction thickness [m] \"\"\"\n",
    "    rho_internal_mass=1000;     \"\"\"Density construction in [kg/m3] \"\"\"\n",
    "\n",
    "#Heavy weight construction    \n",
    "else:                          \n",
    "         \n",
    "    c_internal_mass=840;        \"\"\"Specific heat capacity construction [J/kgK] \"\"\"\n",
    "    th_internal_mass=0.2;       \"\"\"Construction thickness [m] \"\"\"\n",
    "    rho_internal_mass=2500;     \"\"\"Density construction in [kg/m3]   \"\"\" \n",
    "\n",
    "\"\"\"Facade construction\n",
    "\n",
    "    It is possible to choose between light, middle or heavy weight construction\n",
    "\"\"\"\n",
    "\n",
    "#Light weight construction   \n",
    "if N_facade==1:               \n",
    "    \n",
    "    c_facade=840;             \"\"\"Specific heat capacity construction [J/kgK] \"\"\"\n",
    "    rho_facade=500;           \"\"\"Density construction in [kg/m3] \"\"\"\n",
    "    th_facade=0.1;            \"\"\"Construction thickness [m] \"\"\" \n",
    "#Middle weight construction \n",
    "elif  N_facade==2:                 \n",
    "    \n",
    "    c_facade=840;             \"\"\"Specific heat capacity construction [J/kgK] \"\"\"\n",
    "    rho_facade=1000;          \"\"\"Density construction in [kg/m3] \"\"\"\n",
    "    th_facade=0.1;            \"\"\"Construction thickness [m] \"\"\"\n",
    "\n",
    "#Heavy weight construction \n",
    "else:                        \n",
    "    \n",
    "    c_facade=840;             \"\"\"Specific heat capacity construction [J/kgK] \"\"\"\n",
    "    rho_facade=2500;          \"\"\"Density construction in [kg/m3] \"\"\"\n",
    "    th_facade=0.2;            \"\"\"Construction thickness [m] \"\"\"\n",
    "\n",
    "\n",
    "Aglass=sum(glass);             \"\"\"Sum of all glass surfaces [m2] \"\"\"\n",
    "\n",
    "\"\"\"Volume floor and internal walls construction [m3] \n",
    "    \n",
    "    A_internal_mass:  Floor and internal walls surface [m2] \n",
    "\"\"\"\n",
    "V_internal_mass=A_internal_mass*th_internal_mass  \n",
    "\n",
    "\"\"\" n: ventilation air change per hour;  \n",
    "    V_dwelling : internal volume m3 \"\"\"\n",
    "\n",
    "qV=(n*V_dwelling)/3600;            \"\"\"Ventilation, volume air flow [m3/s] \"\"\" \n",
    "qm=qV*rho_air;                    \"\"\"Ventilation, mass air flow [kg/s] \"\"\"\n",
    "\n",
    "\"\"\" \n",
    "Dwelling temperatures calculation\n",
    "Calculation of the resistances\n",
    "\"\"\"\n",
    "Rair_wall=1/(A_internal_mass*alpha_internal_mass);  \"\"\"Resistance indoor air-wall \"\"\"\n",
    "U=1/(1/alpha_i_facade+Rc_facade+1/alpha_e_facade);  \"\"\"U-value indoor air-facade \"\"\"\n",
    "Rair_outdoor=1/(A_facade*U+Aglass*Uglass+qm*c_air); \"\"\"Resitance indoor air-outdoor air \"\"\"\n",
    "\n",
    "\"\"\"Calculation of the capacities \"\"\"\n",
    "Cair = rho_internal_mass*c_internal_mass*V_internal_mass/2+ rho_air*c_air*V_dwelling; \"\"\"Capacity indoor air + walls \"\"\"\n",
    "Cwall= rho_internal_mass*c_internal_mass*V_internal_mass/2;                           \"\"\"Capacity walls \"\"\"\n"
   ]
  },
  {
   "cell_type": "markdown",
   "metadata": {},
   "source": [
    "> ## Define Temperature SP\n",
    "    > Assume that in normal working day, people wake up at 7.00, go to work at 8.00\n",
    "    return home at 18.00 and go to sleep at 23.00"
   ]
  },
  {
   "cell_type": "code",
   "execution_count": 25,
   "metadata": {},
   "outputs": [
    {
     "name": "stderr",
     "output_type": "stream",
     "text": [
      "No handles with labels found to put in legend.\n"
     ]
    },
    {
     "data": {
      "image/png": "[encoded data removed]",
      "text/plain": [
       "<Figure size 432x288 with 1 Axes>"
      ]
     },
     "metadata": {
      "needs_background": "light"
     },
     "output_type": "display_data"
    }
   ],
   "source": [
    "\"\"\"Define Temperature SP\n",
    "\n",
    "    Assume that in normal working day, people wake up at 7.00, \n",
    "    go to work at 8.00 return home at 18.00 and go to sleep at 23.00\n",
    "    \n",
    "\"\"\"\n",
    "\n",
    "\n",
    "\"\"\"Define Temperature SP for 1 days (24 hours) \"\"\"\n",
    "\n",
    "Night_T_SP=17\n",
    "Day_T_SP=20\n",
    "\n",
    "\"\"\"Temperature different between day and night.\"\"\"\n",
    "delta_T= Day_T_SP - Night_T_SP\n",
    "\n",
    "\"\"\"Define Wake up time \"\"\"\n",
    "Wu_time =7;           \"\"\"Wake up at 7 in the morning \"\"\"\n",
    "duty_wu = 23-7       \n",
    "\n",
    "\"\"\"Go to work time/ leave the house \"\"\"\n",
    "Work_time = 8;           \"\"\"Go to work at 8 in the morning \"\"\"\n",
    "duty_w   = 23-8        \n",
    "\n",
    "\"\"\"Back to home \"\"\"\n",
    "back_home = 18;         \"\"\"Back home at 18.00 \"\"\"\n",
    "duty_b   = 23-18 \n",
    "\n",
    "\n",
    "#-----------------------\n",
    "t= np.linspace(0,1,(days_hours*days)+1,endpoint=False)          #+1 start from 0 days=1\n",
    "temp1 = signal.square(2 * np.pi* days * t,duty=duty_wu/24)\n",
    "temp1 = np.clip(temp1, 0, 1)\n",
    "# add delay to array\n",
    "temp1=np.roll(temp1,Wu_time)\n",
    "\n",
    "#----------------\n",
    "t= np.linspace(0,1,(days_hours*days)+1,endpoint=False)          #+1 start from 0 days=1\n",
    "temp2 = signal.square(2 * np.pi* days * t,duty=duty_w/24)\n",
    "temp2 = np.clip(temp2, 0, 1)\n",
    "# add delay to array\n",
    "temp2=np.roll(temp2,Work_time)\n",
    "\n",
    "#___________\n",
    "t= np.linspace(0,1,(days_hours*days)+1,endpoint=False)          #+1 start from 0 days=1\n",
    "temp3 = signal.square(2 * np.pi* days * t,duty=duty_b/24)\n",
    "temp3 = np.clip(temp3, 0, 1)\n",
    "# add delay to array\n",
    "temp3=np.roll(temp3,back_home)\n",
    "\n",
    "# Calculate SP\n",
    "\n",
    "temp4=temp1-temp2+temp3\n",
    "SP=(temp4*delta_T)+Night_T_SP\n",
    "\n",
    "SP=SP[np.newaxis]\n",
    "SP=SP.T\n",
    "\n",
    "# Plot 48 hours\n",
    "plt.plot(time_t[0:48], SP[0:48])\n",
    "plt.ylabel('Temperature_SP (degC)')\n",
    "plt.xlabel('time (sec)')\n",
    "plt.legend(loc=2)\n",
    "#print(Qinternal)\n",
    "SP=np.delete(SP, -1, 0)\n"
   ]
  },
  {
   "cell_type": "markdown",
   "metadata": {},
   "source": [
    "# Simulation"
   ]
  },
  {
   "cell_type": "code",
   "execution_count": 26,
   "metadata": {},
   "outputs": [],
   "source": [
    "def weird_division(n, d):\n",
    "    return n / d if d else 0"
   ]
  },
  {
   "cell_type": "markdown",
   "metadata": {},
   "source": [
    "### Define Simulation time"
   ]
  },
  {
   "cell_type": "code",
   "execution_count": 27,
   "metadata": {},
   "outputs": [],
   "source": [
    "#Define Simulation time\n",
    "\n",
    "days_Sim = 10;                            \"\"\"number of simulation days\"\"\"\n",
    "\n",
    "time_sim      = time[0:days_Sim*24]\n",
    "Qsolar_Sim    = Qsolar[0:days_Sim*24] \n",
    "Qinternal_Sim = Qinternal[0:days_Sim*24]\n",
    "#Qinst_Sim     = Qinst_Sim[0:days_Sim*24]\n",
    "T_outdoor_Sim = T_outdoor[0:days_Sim*24]\n",
    "\n",
    "#Set point\n",
    "SP_Sim=SP[0:days_Sim*24]\n"
   ]
  },
  {
   "cell_type": "code",
   "execution_count": 28,
   "metadata": {},
   "outputs": [
    {
     "name": "stdout",
     "output_type": "stream",
     "text": [
      "240\n",
      "240\n",
      "240\n",
      "240\n",
      "240\n"
     ]
    }
   ],
   "source": [
    "print(len(T_outdoor_Sim))\n",
    "print(len(Qsolar_Sim))\n",
    "print(len(Qinternal_Sim))\n",
    "print(len(SP_Sim))\n",
    "print(len(time_sim))"
   ]
  },
  {
   "cell_type": "code",
   "execution_count": 29,
   "metadata": {},
   "outputs": [],
   "source": [
    "m = GEKKO()\n",
    "m.time = time_sim\n",
    "\n",
    "# Parameters to Estimate\n",
    "CF    = 0.8                     # Convection factor\n",
    "#Heat controller\n",
    "\n",
    "# Model Paramters Inputs\n",
    "\n",
    "Qsolar_Sim    = m.Param(value=Qsolar_Sim)\n",
    "Qinternal_Sim = m.Param(value=Qinternal_Sim)\n",
    "#Qinst_Sim     = m.Param(value=Qinst_Sim)\n",
    "T_outdoor_Sim = m.Param(value=T_outdoor_Sim) \n",
    "SP_Sim        = m.Param(value=SP_Sim)\n",
    "\n",
    "# Model Process Variables\n",
    "Tair = m.Var(value=20)          \n",
    "Twall = m.Var(value=20)\n",
    "#Qinst_Sim = m.Var(value=0)\n",
    "#Qinst_Sim = 0                   \n",
    "\n",
    "#_______PID Controller______\n",
    "\n",
    "kP   = 10000\n",
    "tauI = 0\n",
    "tauD = 0\n",
    "\n",
    "Qinst_0 = 0                           #Output Variables, Initial heating output\n",
    "Qinst = m.Var(value=0)\n",
    "#PV=m.Var(value=0)\n",
    "err=m.Intermediate(SP_Sim-Tair) \n",
    "Integl= m.Var(value=0)\n",
    "\n",
    "\n",
    "# Equations\n",
    "\n",
    "m.Equation(Qinst==Qinst_0 + kP*err + weird_division(kP,tauI)* Integl +kP*tauD*Tair.dt()) # PID form\n",
    "m.Equation(Integl.dt()==err )\n",
    "m.Equation(Cair * Tair.dt()   == (T_outdoor_Sim-Tair)/Rair_outdoor + (Twall-Tair)/Rair_wall  + Qinst + Qinternal_Sim + CF*Qsolar_Sim)\n",
    "m.Equation(Cwall * Twall.dt() == (Tair-Twall)/Rair_wall + (1-CF)*Qsolar_Sim)\n",
    "\n",
    "#Control Variables\n",
    "\n",
    "\n",
    "# Equations\n",
    "#m.Equation(Cair * Tair.dt()   == (T_outdoor-Tair)/Rair_outdoor + (Twall-Tair)/Rair_wall + Qinst + Qinternal + CF*Qsolar)\n",
    "#m.Equation(Cwall * Twall.dt() == (Tair-Twall)/Rair_wall + (1-CF)*Qsolar)\n",
    "\n",
    "# Global Options\n",
    "m.options.IMODE   = 5 # MHE\n",
    "#m.options.EV_TYPE = 2 # Objective type\n",
    "m.options.NODES   = 2 # Collocation nodes\n",
    "m.options.SOLVER  = 3 # IPOPT\n",
    "\n",
    "#------------------------------------------\n",
    "m.solve(disp=False)"
   ]
  },
  {
   "cell_type": "code",
   "execution_count": 30,
   "metadata": {},
   "outputs": [
    {
     "data": {
      "text/plain": [
       "<matplotlib.legend.Legend at 0x230dd166a90>"
      ]
     },
     "execution_count": 30,
     "metadata": {},
     "output_type": "execute_result"
    },
    {
     "data": {
      "image/png": "[encoded data removed]",
      "text/plain": [
       "<Figure size 720x504 with 1 Axes>"
      ]
     },
     "metadata": {
      "needs_background": "light"
     },
     "output_type": "display_data"
    }
   ],
   "source": [
    "# Create plot\n",
    "plt.figure(figsize=(10,7))\n",
    "plt.plot(time_sim,Tair.value,'k-',label=r'$T_1$ Tair')\n",
    "plt.plot(time_sim,T_outdoor_Sim,'r-',label=r'$T_1$ Toutdoor')\n",
    "plt.plot(time_sim,SP_Sim,'r-',label=r'$T_1$ Temperature_SP')\n",
    "\n",
    "plt.ylabel('Temperature (degC)')\n",
    "plt.xlabel('time (sec)')\n",
    "plt.legend(loc=2)"
   ]
  },
  {
   "cell_type": "code",
   "execution_count": null,
   "metadata": {},
   "outputs": [],
   "source": [
    "!pip list\n",
    "\n"
   ]
  }
 ],
 "metadata": {
  "kernelspec": {
   "display_name": "Python 3",
   "language": "python",
   "name": "python3"
  },
  "language_info": {
   "codemirror_mode": {
    "name": "ipython",
    "version": 3
   },
   "file_extension": ".py",
   "mimetype": "text/x-python",
   "name": "python",
   "nbconvert_exporter": "python",
   "pygments_lexer": "ipython3",
   "version": "3.7.2"
  }
 },
 "nbformat": 4,
 "nbformat_minor": 4
}
